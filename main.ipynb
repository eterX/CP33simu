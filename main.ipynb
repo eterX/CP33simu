{
 "cells": [
  {
   "metadata": {},
   "cell_type": "markdown",
   "source": [
    "---\n",
    "\n",
    " __curso [Introducción a la programación HPC con Python y sus aplicaciones al campo de proceso de imágenes]([https://ig.conae.unc.edu.ar/introduccion-a-la-programacion-hpc-2025/])__\n",
    "\n",
    "Simulador de Circuitos Cuánticos, acelerado por MPI y/o GPU. ver [README.md](https://github.com/eterX/CP33simu/blob/main/README.md)\n",
    "\n",
    "---\n",
    "# Sección 0 - inicialización\n",
    "\n",
    "\n",
    "Inicialización de la biblioteca `cp33simu`, el entorno y variables globales.\n",
    "\n",
    "Validamos que el stack está instalado y funcionando. Como se probó en gColab (cuenta gratuita) con entorno T4, CuPY falló en instalar. Como alternativa se instaló el stack en una portátil con GPU NVDIA GTX 960M (compute capability 5.0). Se muestran resultados abajo."
   ],
   "id": "dc285300cc76d6c4"
  },
  {
   "metadata": {
    "ExecuteTime": {
     "end_time": "2025-10-06T18:38:25.756243Z",
     "start_time": "2025-10-06T18:38:25.653285Z"
    }
   },
   "cell_type": "code",
   "source": [
    "#Inicialización del entorno y variables globales\n",
    "\n",
    "%load_ext autoreload\n",
    "%autoreload 2\n",
    "import qiskit as qk\n",
    "import sympy as sp\n",
    "import cp33simu\n",
    "\n",
    "\n",
    "# globales (perdón Niklaus) TODO: mandar a archivo de config\n",
    "num_qubits = 5  #número de qubits a simular\n",
    "corridas = 30 #corridas del Aer de benchmark\n",
    "benchmarks_requeridos = {\"qiskit-aer\":False, \"simuMPI\":True, \"simuGPU\":True, \"simuGPUbajo\":True} #Todo validar claves, o no :)\n",
    "\n",
    "## verificamos CUDA y cupy\n",
    "_=list()\n",
    "_.append(qk.QuantumCircuit(1,0))\n",
    "_[-1].h(0)\n",
    "_.append(cp33simu.simuGPU(qc=_[-1]))\n",
    "try:\n",
    "    if not _[-1].cupy_installed():\n",
    "        # hay problemas con Cupy\n",
    "        raise ImportError(\"Cupy no está instalado\")\n",
    "    if not _[-1].validate_cupy():\n",
    "        raise ImportError(\"Cupy no está funcionando bien\")\n",
    "except ImportError as e:\n",
    "        print(f\"WARN: {e}\")\n",
    "except Exception:\n",
    "        raise\n",
    "finally:\n",
    "    for tmp in _:\n",
    "        del(tmp) # borro temporales\n",
    "\n",
    "\n",
    "\n",
    "# para benchmarks\n",
    "benchmarks_corridos = None\n",
    "if True in benchmarks_requeridos.values(): #probar esta sintaxis\n",
    "    print(f\"INFO: benchmarks pedidos {[k for k, v in benchmarks_requeridos.items() if v]}\")\n",
    "    print(f\"INFO: benchmarks no pedidos {[k for k, v in benchmarks_requeridos.items() if not v]}\")\n",
    "\n",
    "    import pandas as pd\n",
    "    benchmarks_columns=[\"clase\",  #\"qiskit-aer\" o implementacion de simuabstracto\n",
    "                \"circuito\",\n",
    "                \"corrida\",\n",
    "                \"num_qubits\",\n",
    "                \"walltime\"]\n",
    "\n",
    "    benchmarks_corridos = pd.DataFrame(columns=benchmarks_columns)"
   ],
   "id": "16a7fae9a46720df",
   "outputs": [
    {
     "name": "stdout",
     "output_type": "stream",
     "text": [
      "The autoreload extension is already loaded. To reload it, use:\n",
      "  %reload_ext autoreload\n",
      "WARN: No se encontró la biblioteca CuPy. Sin aceleración GPU\n",
      "INFO: **numpy** funciona bien, v1.26.4\n",
      "INFO: Simulador creado: circuit-47\n",
      "INFO: Qbits  1\n",
      "WARN: No se encontró la biblioteca CuPy. Sin aceleración GPU\n",
      "WARN: Cupy no está instalado\n",
      "INFO: benchmarks pedidos ['simuMPI', 'simuGPU', 'simuGPUbajo']\n",
      "INFO: benchmarks no pedidos ['qiskit-aer']\n"
     ]
    }
   ],
   "execution_count": 4
  },
  {
   "metadata": {},
   "cell_type": "markdown",
   "source": [
    "### Arquitectura del módulo `cp33simu`\n",
    "\n",
    "El módulo tiene un patrón de herencia, la clase base abstracta `simuAbstracto` es la interfaz común para todos los simuladores:\n",
    "- `qc_matrix_load()`: Carga la matriz del circuito cuántico\n",
    "- `instate_matrix_load()`: Prepara el estado inicial\n",
    "- `outstate_calculate()`: Calcula la evolución\n",
    "\n",
    "luego:\n",
    "\n",
    "\n",
    " 1. `simuGPU`: Simulador GPU de usando [CuPy](https://docs.cupy.dev/en/stable/overview.html), a alto nivel: \"a NumPy/SciPy-compatible array library for GPU-accelerated computing with Python\". Implementa:\n",
    "- Validación de CuPy con benchmarks\n",
    "- Conversión de circuito Qiskit a matriz en GPU (complex128)\n",
    "- Construcción de estado inicial mediante productos de tensriales\n",
    "- Evolución por multiplicación matricial acelerada en GPU\n",
    "\n",
    " 2. `simuGPUbajo`: mismo que simuGPU pero con implementación de kernels CUDA de bajo nivel con CuPY. No implementado\n",
    "\n",
    " 3. `simuMPI`: Misma simulación pero distribuida con descomposición de dominio. El vector de estado se particiona entre procesos MPI. No implementado\n",
    "\n"
   ],
   "id": "989358f1b332009b"
  },
  {
   "metadata": {
    "collapsed": true
   },
   "cell_type": "markdown",
   "source": "# sección 1 - Qiskit-Aer",
   "id": "2dd999c47c8813bf"
  },
  {
   "metadata": {},
   "cell_type": "markdown",
   "source": [
    "## estado |+....+> con qiskit-aer\n",
    "\n",
    "Preparamos el estado  |+....+> y  simulamos con el StateVector sampler de `qiskit-aer`. Usaremos éste resultado para comparar con la biblioteca `cp33simu`"
   ],
   "id": "1394528a9ec871a1"
  },
  {
   "metadata": {
    "ExecuteTime": {
     "end_time": "2025-10-06T18:42:14.536985Z",
     "start_time": "2025-10-06T18:42:13.689125Z"
    }
   },
   "cell_type": "code",
   "source": [
    "\n",
    "\n",
    "qc1=qk.QuantumCircuit(num_qubits,0)\n",
    "qc1.h(range(num_qubits))\n",
    "qc1_copy=qc1.copy()\n",
    "qc1_copy.measure_all()\n",
    "display(qc1_copy.draw(output='mpl'))"
   ],
   "id": "1a287467f6eb2bcb",
   "outputs": [
    {
     "data": {
      "text/plain": [
       "<Figure size 747.609x535.111 with 1 Axes>"
      ],
      "image/png": "[encoded data removed]"
     },
     "metadata": {},
     "output_type": "display_data",
     "jetTransient": {
      "display_id": null
     }
    }
   ],
   "execution_count": 8
  },
  {
   "metadata": {
    "ExecuteTime": {
     "end_time": "2025-10-06T18:42:19.694893Z",
     "start_time": "2025-10-06T18:42:19.643532Z"
    }
   },
   "cell_type": "code",
   "source": [
    "# simulamos\n",
    "\n",
    "from qiskit.primitives import StatevectorSampler\n",
    "sampler = StatevectorSampler()\n",
    "job = sampler.run([qc1_copy], shots = corridas)\n",
    "result = job.result()\n",
    "result_data = result[0].data\n",
    "data_as_bitstrings = result_data.meas.get_bitstrings()\n",
    "cuantosMuestro=min(corridas,10) # no mas de diez, por si se queda muy largo\n",
    "data_as_bitstrings[-cuantosMuestro:]"
   ],
   "id": "ddc01763e774fb84",
   "outputs": [
    {
     "data": {
      "text/plain": [
       "['00110',\n",
       " '01010',\n",
       " '01110',\n",
       " '00001',\n",
       " '10010',\n",
       " '00101',\n",
       " '00101',\n",
       " '01000',\n",
       " '01101',\n",
       " '01000']"
      ]
     },
     "execution_count": 9,
     "metadata": {},
     "output_type": "execute_result"
    }
   ],
   "execution_count": 9
  },
  {
   "metadata": {
    "ExecuteTime": {
     "end_time": "2025-10-05T21:57:35.952447Z",
     "start_time": "2025-10-05T21:57:35.929090Z"
    }
   },
   "cell_type": "code",
   "source": "result_data.meas",
   "id": "45734e6d252b36b4",
   "outputs": [
    {
     "data": {
      "text/plain": [
       "BitArray(<shape=(), num_shots=30, num_bits=5>)"
      ]
     },
     "execution_count": 4,
     "metadata": {},
     "output_type": "execute_result"
    }
   ],
   "execution_count": 4
  },
  {
   "metadata": {},
   "cell_type": "markdown",
   "source": [
    "---\n",
    "# sección 2-  simulación con CuPy/GPU\n",
    "\n",
    "\n",
    "Implementamos nuestro  simulador (prueba de concepto) usando CuPy para acelerar las operaciones matriciales en GPU.\n",
    "1. **Carga del circuito como matriz**: Convertimos el circuito cuántico a su representación matricial usando `qk.quantum_info.Operator.from_circuit()` y lo pasamos a la GPU con `cupy.array()`. Para 5 qubits es una matriz de 32x32 complejos (complex128)\n",
    "\n",
    "2. **Estado inicial**: Construimos $\\ket{0...0}$ usando producto tensorial (`cupy.kron()`).\n",
    "\n",
    "3. **Evolución del estado**: $\\ket{ψ_{out}} = U\\ket{ψ_{in}}$.  trabajo ideal para hacer directamente en la GPU, suponiendo que la memoria global es suficiente. El Offloading a GPU evita transferencias $CPU <-> GPU$.  El problema  circuitos grandes crece exponencialmente (2^n × 2^n complejos). Un circuito de 20 qubits ya requiere ~17GB solo para la matriz U.\n",
    "\n",
    "\n",
    "ATENCIÓN: la sección 2 no funciona si no hay GPU disponible. Da el siguiente error:\n",
    "```shell\n",
    "ImplementedError: ERROR: simpuGPU* debe correr en un entorno con CUDA\n",
    "```\n",
    "\n",
    "\n",
    "\n",
    "## estado |+....+> con simuGPU\n",
    "\n",
    "Se corre una primera simulación con el circuito |+....+>, con la funcion `simuGPU.outstate_calculate()`, que usa `cupy.matmul()` y se muestra el resultado.\n"
   ],
   "id": "54a1c0e4c26cf5e7"
  },
  {
   "metadata": {
    "ExecuteTime": {
     "end_time": "2025-10-06T15:37:06.492905Z",
     "start_time": "2025-10-06T15:37:06.463864Z"
    }
   },
   "cell_type": "code",
   "source": [
    "#TODO: si simu.cupy_enabled en falso, saltea la sección\n",
    "if \"qc1\" not in globals().keys():\n",
    "    msg=\"ERROR: corriste la sección2? para instanciar simu* necesitamos un circuito cargado en qiskit, simulable\"\n",
    "    raise ValueError(msg)"
   ],
   "id": "6f71934fb1c25918",
   "outputs": [],
   "execution_count": 5
  },
  {
   "metadata": {
    "ExecuteTime": {
     "end_time": "2025-10-06T15:37:16.583687Z",
     "start_time": "2025-10-06T15:37:10.508857Z"
    }
   },
   "cell_type": "code",
   "source": [
    "# instanciamos el simulador para GPU en `cp33simu` con el circuito a simular\n",
    "#\n",
    "# esta implementacion de `outstate_calculate()` usa CuPY a \"alto nivel\", ver `cp33simu.simuGPUbajo()`\n",
    "\n",
    "simu=cp33simu.simuGPU(qc=qc1)\n",
    "\n",
    "if simu.validate_cupy() != True:\n",
    "    # cancelamos, necesitamos GPU si-o-si\n",
    "    msg=\"ERROR: simpuGPU* debe correr en un entorno con CUDA\"\n",
    "    print(f\"ERROR: {msg}\")\n",
    "    raise NotImplementedError(msg)\n",
    "\n",
    "\n",
    "# otras opciones NO IMPLEMENTADAS:\n",
    "#simu=cp33simu.simuGPUbajo(qc=qc1)\n",
    "#simu=cp33simu.simuMPI(qc=qc1)"
   ],
   "id": "782f6d299603000b",
   "outputs": [
    {
     "name": "stdout",
     "output_type": "stream",
     "text": [
      "DEBUG: Versión de CuPy: 13.6.0, GPU: b'NVIDIA GeForce GTX 960M'\n",
      "INFO: Hola Mundo - Array: [1 2 3 4 5]\n",
      "DEBUG: Ejecutando benchmark (multiplicación de matrices 10000x10000)...\n",
      "INFO: Benchmark completado en 1492.85 ms\n",
      "DEBUG: GPU.compute_capability: 50\n",
      "INFO: **cupy** funciona bien, v13.6.0\n",
      "INFO: Simulador creado: circuit-47\n",
      "INFO: Qbits  5\n",
      "INFO: Hola Mundo - Array: [1 2 3 4 5]\n",
      "DEBUG: Ejecutando benchmark (multiplicación de matrices 10000x10000)...\n",
      "INFO: Benchmark completado en 1489.37 ms\n",
      "DEBUG: GPU.compute_capability: 50\n"
     ]
    }
   ],
   "execution_count": 6
  },
  {
   "metadata": {
    "ExecuteTime": {
     "end_time": "2025-10-06T15:37:20.950667Z",
     "start_time": "2025-10-06T15:37:20.912407Z"
    }
   },
   "cell_type": "code",
   "source": [
    "# saca la matriz desde qiskit\n",
    "# para preparar |+...+> la mariz del circuito será (H|0⟩)⊗...⊗(H|0⟩)\n",
    "#\n",
    "simu.qc_matrix=None\n",
    "resultOK=simu.qc_matrix_load() #carga la matriz del circuito en la GPU\n",
    "#resultOK=False\n",
    "if resultOK:\n",
    "    pass #TODO: mostramos matriz?\n",
    "else:\n",
    "    msg=\"no se pudo cargar la matriz del circuito\"\n",
    "    print(f\"ERROR: {msg}\")\n",
    "    raise ValueError(msg)\n",
    "\n",
    "# preparamos el estado inicial\n",
    "simu.instate_matrix=None\n",
    "resultOK=simu.instate_matrix_load()\n",
    "if not resultOK:\n",
    "    msg=\"ERROR: no se pudo cargar el estado de entrada\"\n",
    "    raise ValueError(msg)\n"
   ],
   "id": "f9968192a941167a",
   "outputs": [
    {
     "name": "stdout",
     "output_type": "stream",
     "text": [
      "INFO: Estado inicial cargado: [[ 0.1767767+0.j  0.1767767+0.j  0.1767767+0.j ...  0.1767767+0.j\n",
      "   0.1767767+0.j  0.1767767+0.j]\n",
      " [ 0.1767767+0.j -0.1767767+0.j  0.1767767+0.j ... -0.1767767+0.j\n",
      "   0.1767767+0.j -0.1767767+0.j]\n",
      " [ 0.1767767+0.j  0.1767767+0.j -0.1767767+0.j ...  0.1767767+0.j\n",
      "  -0.1767767+0.j -0.1767767+0.j]\n",
      " ...\n",
      " [ 0.1767767+0.j -0.1767767+0.j  0.1767767+0.j ...  0.1767767+0.j\n",
      "  -0.1767767+0.j  0.1767767+0.j]\n",
      " [ 0.1767767+0.j  0.1767767+0.j -0.1767767+0.j ... -0.1767767+0.j\n",
      "   0.1767767+0.j  0.1767767+0.j]\n",
      " [ 0.1767767+0.j -0.1767767+0.j -0.1767767+0.j ...  0.1767767+0.j\n",
      "   0.1767767+0.j -0.1767767+0.j]]\n",
      "INFO: Estado inicial cargado\n",
      "DEBUG: Estado inicial: [[1.+0.j]\n",
      " [0.+0.j]\n",
      " [0.+0.j]\n",
      " [0.+0.j]\n",
      " [0.+0.j]\n",
      " [0.+0.j]\n",
      " [0.+0.j]\n",
      " [0.+0.j]\n",
      " [0.+0.j]\n",
      " [0.+0.j]\n",
      " [0.+0.j]\n",
      " [0.+0.j]\n",
      " [0.+0.j]\n",
      " [0.+0.j]\n",
      " [0.+0.j]\n",
      " [0.+0.j]\n",
      " [0.+0.j]\n",
      " [0.+0.j]\n",
      " [0.+0.j]\n",
      " [0.+0.j]\n",
      " [0.+0.j]\n",
      " [0.+0.j]\n",
      " [0.+0.j]\n",
      " [0.+0.j]\n",
      " [0.+0.j]\n",
      " [0.+0.j]\n",
      " [0.+0.j]\n",
      " [0.+0.j]\n",
      " [0.+0.j]\n",
      " [0.+0.j]\n",
      " [0.+0.j]\n",
      " [0.+0.j]]\n"
     ]
    }
   ],
   "execution_count": 7
  },
  {
   "metadata": {
    "ExecuteTime": {
     "end_time": "2025-10-06T15:37:24.479299Z",
     "start_time": "2025-10-06T15:37:24.425693Z"
    }
   },
   "cell_type": "code",
   "source": [
    "\n",
    "#todo listo, simulamos!\n",
    "resultOK=simu.outstate_calculate()"
   ],
   "id": "94253f32ac16edca",
   "outputs": [
    {
     "name": "stdout",
     "output_type": "stream",
     "text": [
      "INFO: estado de salida OK\n",
      "DEBUG: estado de salida: [[0.1767767+0.j]\n",
      " [0.1767767+0.j]\n",
      " [0.1767767+0.j]\n",
      " [0.1767767+0.j]\n",
      " [0.1767767+0.j]\n",
      " [0.1767767+0.j]\n",
      " [0.1767767+0.j]\n",
      " [0.1767767+0.j]\n",
      " [0.1767767+0.j]\n",
      " [0.1767767+0.j]\n",
      " [0.1767767+0.j]\n",
      " [0.1767767+0.j]\n",
      " [0.1767767+0.j]\n",
      " [0.1767767+0.j]\n",
      " [0.1767767+0.j]\n",
      " [0.1767767+0.j]\n",
      " [0.1767767+0.j]\n",
      " [0.1767767+0.j]\n",
      " [0.1767767+0.j]\n",
      " [0.1767767+0.j]\n",
      " [0.1767767+0.j]\n",
      " [0.1767767+0.j]\n",
      " [0.1767767+0.j]\n",
      " [0.1767767+0.j]\n",
      " [0.1767767+0.j]\n",
      " [0.1767767+0.j]\n",
      " [0.1767767+0.j]\n",
      " [0.1767767+0.j]\n",
      " [0.1767767+0.j]\n",
      " [0.1767767+0.j]\n",
      " [0.1767767+0.j]\n",
      " [0.1767767+0.j]]\n"
     ]
    }
   ],
   "execution_count": 8
  },
  {
   "metadata": {
    "ExecuteTime": {
     "end_time": "2025-10-06T15:37:27.746692Z",
     "start_time": "2025-10-06T15:37:27.716779Z"
    }
   },
   "cell_type": "code",
   "source": [
    "\n",
    "if not resultOK:\n",
    "    print(\"ERROR: no se pudo calcular el estado de salida\")\n",
    "else:\n",
    "    print(f\"INFO: estado de salida OK, primeras filas: \\n {simu.outstate_matrix[-cuantosMuestro:]}\")"
   ],
   "id": "55abd2dc398611a6",
   "outputs": [
    {
     "name": "stdout",
     "output_type": "stream",
     "text": [
      "INFO: estado de salida OK, primeras filas: \n",
      " [[0.1767767+0.j]\n",
      " [0.1767767+0.j]\n",
      " [0.1767767+0.j]\n",
      " [0.1767767+0.j]\n",
      " [0.1767767+0.j]\n",
      " [0.1767767+0.j]\n",
      " [0.1767767+0.j]\n",
      " [0.1767767+0.j]\n",
      " [0.1767767+0.j]\n",
      " [0.1767767+0.j]]\n"
     ]
    }
   ],
   "execution_count": 9
  },
  {
   "cell_type": "markdown",
   "id": "8sla7aysxyw",
   "source": "## estado |+....+> con simuGPUbajo (kernels CUDA)\n\nMisma simulación pero usando kernels CUDA de bajo nivel en vez de las operaciones de alto nivel de CuPy.",
   "metadata": {}
  },
  {
   "cell_type": "code",
   "id": "f34nadz446u",
   "source": [
    "# instanciamos el simulador para GPU en `cp33simu` con el circuito a simular\n",
    "#\n",
    "# este usa CuPy a \"bajo nivel\", con kernels CUDA\n",
    "\n",
    "simu=cp33simu.simuGPUbajo(qc=qc1)\n",
    "\n",
    "if simu.validate_cupy() != True:\n",
    "    # cancelamos, necesitamos GPU si-o-si\n",
    "    msg=\"ERROR: simpuGPU* debe correr en un entorno con CUDA\"\n",
    "    print(f\"ERROR: {msg}\")\n",
    "    raise NotImplementedError(msg)\n"
   ],
   "metadata": {
    "ExecuteTime": {
     "end_time": "2025-10-06T16:38:39.258975Z",
     "start_time": "2025-10-06T16:38:29.784597Z"
    }
   },
   "outputs": [
    {
     "name": "stdout",
     "output_type": "stream",
     "text": [
      "INFO: Hola Mundo - Array: [1 2 3 4 5]\n",
      "DEBUG: Ejecutando benchmark (multiplicación de matrices 10000x10000)...\n",
      "INFO: Benchmark completado en 1496.41 ms\n",
      "DEBUG: GPU.compute_capability: 50\n",
      "INFO: Hola Mundo - Array: [1 2 3 4 5]\n",
      "DEBUG: Ejecutando benchmark (multiplicación de matrices 10000x10000)...\n",
      "INFO: Benchmark completado en 1494.58 ms\n",
      "DEBUG: GPU.compute_capability: 50\n",
      "INFO: **cupy** funciona bien, v13.6.0\n",
      "INFO: Simulador creado: circuit-47\n",
      "INFO: Qbits  5\n",
      "INFO: Simulador GPU bajo creado: circuit-47 - Qbits  5\n",
      "INFO: Hola Mundo - Array: [1 2 3 4 5]\n",
      "DEBUG: Ejecutando benchmark (multiplicación de matrices 10000x10000)...\n",
      "INFO: Benchmark completado en 1482.23 ms\n",
      "DEBUG: GPU.compute_capability: 50\n"
     ]
    }
   ],
   "execution_count": 33
  },
  {
   "cell_type": "code",
   "id": "313z7i8qps3",
   "source": [
    "# saca la matriz desde qiskit\n",
    "# para preparar |+...+> la matriz del circuito será (H|0⟩)⊗...⊗(H|0⟩)\n",
    "#\n",
    "simu.qc_matrix=None\n",
    "resultOK=simu.qc_matrix_load() #carga la matriz del circuito en la GPU\n",
    "#resultOK=False\n",
    "if resultOK:\n",
    "    pass #TODO: mostramos matriz?\n",
    "else:\n",
    "    msg=\"no se pudo cargar la matriz del circuito\"\n",
    "    print(f\"ERROR: {msg}\")\n",
    "    raise ValueError(msg)\n",
    "\n",
    "# preparamos el estado inicial\n",
    "simu.instate_matrix=None\n",
    "resultOK=simu.instate_matrix_load()\n",
    "if not resultOK:\n",
    "    msg=\"ERROR: no se pudo cargar el estado de entrada\"\n",
    "    raise ValueError(msg)\n"
   ],
   "metadata": {
    "ExecuteTime": {
     "end_time": "2025-10-06T16:38:39.321720Z",
     "start_time": "2025-10-06T16:38:39.286027Z"
    }
   },
   "outputs": [
    {
     "name": "stdout",
     "output_type": "stream",
     "text": [
      "INFO: Estado inicial cargado: [[ 0.1767767+0.j  0.1767767+0.j  0.1767767+0.j ...  0.1767767+0.j\n",
      "   0.1767767+0.j  0.1767767+0.j]\n",
      " [ 0.1767767+0.j -0.1767767+0.j  0.1767767+0.j ... -0.1767767+0.j\n",
      "   0.1767767+0.j -0.1767767+0.j]\n",
      " [ 0.1767767+0.j  0.1767767+0.j -0.1767767+0.j ...  0.1767767+0.j\n",
      "  -0.1767767+0.j -0.1767767+0.j]\n",
      " ...\n",
      " [ 0.1767767+0.j -0.1767767+0.j  0.1767767+0.j ...  0.1767767+0.j\n",
      "  -0.1767767+0.j  0.1767767+0.j]\n",
      " [ 0.1767767+0.j  0.1767767+0.j -0.1767767+0.j ... -0.1767767+0.j\n",
      "   0.1767767+0.j  0.1767767+0.j]\n",
      " [ 0.1767767+0.j -0.1767767+0.j -0.1767767+0.j ...  0.1767767+0.j\n",
      "   0.1767767+0.j -0.1767767+0.j]]\n",
      "INFO: Estado inicial cargado\n",
      "DEBUG: Estado inicial: [[1.+0.j]\n",
      " [0.+0.j]\n",
      " [0.+0.j]\n",
      " [0.+0.j]\n",
      " [0.+0.j]\n",
      " [0.+0.j]\n",
      " [0.+0.j]\n",
      " [0.+0.j]\n",
      " [0.+0.j]\n",
      " [0.+0.j]\n",
      " [0.+0.j]\n",
      " [0.+0.j]\n",
      " [0.+0.j]\n",
      " [0.+0.j]\n",
      " [0.+0.j]\n",
      " [0.+0.j]\n",
      " [0.+0.j]\n",
      " [0.+0.j]\n",
      " [0.+0.j]\n",
      " [0.+0.j]\n",
      " [0.+0.j]\n",
      " [0.+0.j]\n",
      " [0.+0.j]\n",
      " [0.+0.j]\n",
      " [0.+0.j]\n",
      " [0.+0.j]\n",
      " [0.+0.j]\n",
      " [0.+0.j]\n",
      " [0.+0.j]\n",
      " [0.+0.j]\n",
      " [0.+0.j]\n",
      " [0.+0.j]]\n"
     ]
    }
   ],
   "execution_count": 34
  },
  {
   "metadata": {
    "ExecuteTime": {
     "end_time": "2025-10-06T16:39:45.115583Z",
     "start_time": "2025-10-06T16:39:45.055618Z"
    }
   },
   "cell_type": "code",
   "source": [
    "resultOK=False\n",
    "#todo listo, simulamos!\n",
    "#resultOK=simu.outstate_calculate()\n",
    "#\n",
    "resultOK=simu.outstate_calculate() #no funciona todavía\n",
    "#"
   ],
   "id": "d8256aa9dec0adf7",
   "outputs": [
    {
     "name": "stdout",
     "output_type": "stream",
     "text": [
      "WARN: <class 'cp33simu.simuGPUbajo'>.GPUtopology es stub\n",
      "WARN: <class 'cp33simu.simuGPUbajo'>.GPUtopology es stub\n",
      "WARN: <class 'cp33simu.simuGPUbajo'>.GPUtopology es stub\n",
      "INFO: estado de salida OK (kernel CUDA bajo nivel)\n",
      "DEBUG: estado de salida: [0.17677669+0.j 0.17677669+0.j 0.17677669+0.j 0.17677669+0.j\n",
      " 0.17677669+0.j 0.17677669+0.j 0.17677669+0.j 0.17677669+0.j\n",
      " 0.17677669+0.j 0.17677669+0.j 0.17677669+0.j 0.17677669+0.j\n",
      " 0.17677669+0.j 0.17677669+0.j 0.17677669+0.j 0.17677669+0.j\n",
      " 0.17677669+0.j 0.17677669+0.j 0.17677669+0.j 0.17677669+0.j\n",
      " 0.17677669+0.j 0.17677669+0.j 0.17677669+0.j 0.17677669+0.j\n",
      " 0.17677669+0.j 0.17677669+0.j 0.17677669+0.j 0.17677669+0.j\n",
      " 0.17677669+0.j 0.17677669+0.j 0.17677669+0.j 0.17677669+0.j]\n",
      "\n",
      "INFO: estado de salida - amplitud de probabilidad de los 32 posibles estados:\n",
      "|00000>: 0.177 + i0.000\n",
      "|00001>: 0.177 + i0.000\n",
      "|00010>: 0.177 + i0.000\n",
      "|00011>: 0.177 + i0.000\n",
      "|00100>: 0.177 + i0.000\n",
      "|00101>: 0.177 + i0.000\n",
      "|00110>: 0.177 + i0.000\n",
      "|00111>: 0.177 + i0.000\n",
      "|01000>: 0.177 + i0.000\n",
      "|01001>: 0.177 + i0.000\n",
      "|01010>: 0.177 + i0.000\n",
      "|01011>: 0.177 + i0.000\n",
      "|01100>: 0.177 + i0.000\n",
      "|01101>: 0.177 + i0.000\n",
      "|01110>: 0.177 + i0.000\n",
      "|01111>: 0.177 + i0.000\n",
      "|10000>: 0.177 + i0.000\n",
      "|10001>: 0.177 + i0.000\n",
      "|10010>: 0.177 + i0.000\n",
      "|10011>: 0.177 + i0.000\n",
      "|10100>: 0.177 + i0.000\n",
      "|10101>: 0.177 + i0.000\n",
      "|10110>: 0.177 + i0.000\n",
      "|10111>: 0.177 + i0.000\n",
      "|11000>: 0.177 + i0.000\n",
      "|11001>: 0.177 + i0.000\n",
      "|11010>: 0.177 + i0.000\n",
      "|11011>: 0.177 + i0.000\n",
      "|11100>: 0.177 + i0.000\n",
      "|11101>: 0.177 + i0.000\n",
      "|11110>: 0.177 + i0.000\n",
      "|11111>: 0.177 + i0.000\n"
     ]
    }
   ],
   "execution_count": 38
  },
  {
   "cell_type": "code",
   "id": "bdjx60r4o3l",
   "source": "\nif not resultOK:\n    print(\"ERROR: no se pudo calcular el estado de salida\")\nelse:\n    print(f\"INFO: estado de salida OK, primeras filas: \\n {simu.outstate_matrix[-cuantosMuestro:]}\")",
   "metadata": {
    "ExecuteTime": {
     "end_time": "2025-10-06T16:39:10.906761Z",
     "start_time": "2025-10-06T16:39:10.876415Z"
    }
   },
   "outputs": [
    {
     "name": "stdout",
     "output_type": "stream",
     "text": [
      "INFO: estado de salida OK, primeras filas: \n",
      " [0.17677669+0.j 0.17677669+0.j 0.17677669+0.j 0.17677669+0.j\n",
      " 0.17677669+0.j 0.17677669+0.j 0.17677669+0.j 0.17677669+0.j\n",
      " 0.17677669+0.j 0.17677669+0.j]\n"
     ]
    }
   ],
   "execution_count": 37
  },
  {
   "metadata": {},
   "cell_type": "markdown",
   "source": [
    "la salida esperada para 5qbits:\n",
    "```bash\n",
    "INFO: estado de salida - amplitud de probabilidad de los 32 posibles estados:\n",
    "|00000>: 0.177 + i0.000\n",
    "|00001>: 0.177 + i0.000\n",
    "|00010>: 0.177 + i0.000\n",
    "...\n",
    "|11101>: 0.177 + i0.000\n",
    "|11110>: 0.177 + i0.000\n",
    "|11111>: 0.177 + i0.000\n",
    "```"
   ],
   "id": "ebb7fb17320ced24"
  },
  {
   "metadata": {},
   "cell_type": "markdown",
   "source": [
    "\n",
    "---\n",
    "# sección 3 - Vector de Estados distribuído con MPI\n",
    "\n",
    "\n",
    "Usamos `mpi4py` para distribuir el vector de estado entre múltiples procesos (potencialmente en diferentes nodos de un cluster).  Cada proceso MPI maneja una porción del vector. Las compuertas multi-qbit requieren comunicación entre procesos cuando hay entrelazamiento , se espera ver ventajas con MPI versus GPU aisladas.\n",
    "\n",
    "El repo incluye un script es para validar que el stack MPI (mpi4py) está instalado # y funcionando correctamente. Prueba comunicación básica entre procesos usando la clase `cp33simu.simuMPI`.  Uso (desde shell):\n",
    "\n",
    "```shell\n",
    "conda activate env_mpi #donde env_mpi es el entorno de conda con mpi4py\n",
    "mpiexec -n 2 python -m mpi4py simuMPI_test.py\n",
    "```\n",
    "la salida debe ser (se recortan algunas líneas):\n",
    "\n",
    "```shell\n",
    "WARN: cupy no está instalado, las simulaciones van a correr en CPU\n",
    "INFO: **numpy** funciona bien, v1.26.4\n",
    "INFO: Simulador MPI creado: circuit-46\n",
    "INFO: Qbits  1\n",
    "INFO: Simulador MPI creado: circuit-46\n",
    "INFO: Qbits  1\n",
    "Received: [0.+0.j 1.+0.j 2.+0.j 3.+0.j 4.+0.j 5.+0.j 6.+0.j 7.+0.j 8.+0.j 9.+0.j]\n",
    "```\n"
   ],
   "id": "f6c1fe42f7f7b0ba"
  },
  {
   "metadata": {},
   "cell_type": "markdown",
   "source": [
    "Si está habilitado el benchmark (se pasó un dict con el par \"simuMPI\":True), se verá algo como eso a la salida:\n",
    "\n",
    "```bash\n",
    "INFO: Benchmark completado en 106.44 ms\n",
    "DEBUG: simu.benchmark: {''clase': 'simuMPI', 'walltime': 106.4397080008348}\n",
    "```\n"
   ],
   "id": "f635e36f422a1723"
  },
  {
   "metadata": {
    "ExecuteTime": {
     "end_time": "2025-10-06T18:48:31.625032Z",
     "start_time": "2025-10-06T18:48:31.576596Z"
    }
   },
   "cell_type": "code",
   "source": [
    "# le meto los datos de simu.benchmark a mano...\n",
    "\n",
    "_=pd.DataFrame(columns=[\"clase\",\"corrida\",\"circuito\",\"num_qubits\",\"walltime\"],\n",
    "               data=[[\"simuMPI\",\"1\",qc1.name,qc1.num_qubits,106.4397080008348],])\n",
    "display(_)\n",
    "benchmarks_corridos = pd.concat([benchmarks_corridos, _], ignore_index=True)\n",
    "\n"
   ],
   "id": "54ba7352f45734ad",
   "outputs": [
    {
     "data": {
      "text/plain": [
       "     clase corrida    circuito  n_qubits    walltime\n",
       "0  simuMPI       1  circuit-48         5  106.439708"
      ],
      "text/html": [
       "<div>\n",
       "<style scoped>\n",
       "    .dataframe tbody tr th:only-of-type {\n",
       "        vertical-align: middle;\n",
       "    }\n",
       "\n",
       "    .dataframe tbody tr th {\n",
       "        vertical-align: top;\n",
       "    }\n",
       "\n",
       "    .dataframe thead th {\n",
       "        text-align: right;\n",
       "    }\n",
       "</style>\n",
       "<table border=\"1\" class=\"dataframe\">\n",
       "  <thead>\n",
       "    <tr style=\"text-align: right;\">\n",
       "      <th></th>\n",
       "      <th>clase</th>\n",
       "      <th>corrida</th>\n",
       "      <th>circuito</th>\n",
       "      <th>n_qubits</th>\n",
       "      <th>walltime</th>\n",
       "    </tr>\n",
       "  </thead>\n",
       "  <tbody>\n",
       "    <tr>\n",
       "      <th>0</th>\n",
       "      <td>simuMPI</td>\n",
       "      <td>1</td>\n",
       "      <td>circuit-48</td>\n",
       "      <td>5</td>\n",
       "      <td>106.439708</td>\n",
       "    </tr>\n",
       "  </tbody>\n",
       "</table>\n",
       "</div>"
      ]
     },
     "metadata": {},
     "output_type": "display_data",
     "jetTransient": {
      "display_id": null
     }
    }
   ],
   "execution_count": 13
  },
  {
   "metadata": {
    "ExecuteTime": {
     "end_time": "2025-10-06T18:48:42.878497Z",
     "start_time": "2025-10-06T18:48:42.815983Z"
    }
   },
   "cell_type": "code",
   "source": "benchmarks_corridos",
   "id": "a8c33c349198d649",
   "outputs": [
    {
     "data": {
      "text/plain": [
       "     clase    circuito corrida n_qubits    walltime\n",
       "0  simuMPI  circuit-48       1        5  106.439708\n",
       "1  simuMPI  circuit-48       1        5  106.439708\n",
       "2  simuMPI  circuit-48       1        5  106.439708\n",
       "3  simuMPI  circuit-48       1        5  106.439708\n",
       "4  simuMPI  circuit-48       1        5  106.439708"
      ],
      "text/html": [
       "<div>\n",
       "<style scoped>\n",
       "    .dataframe tbody tr th:only-of-type {\n",
       "        vertical-align: middle;\n",
       "    }\n",
       "\n",
       "    .dataframe tbody tr th {\n",
       "        vertical-align: top;\n",
       "    }\n",
       "\n",
       "    .dataframe thead th {\n",
       "        text-align: right;\n",
       "    }\n",
       "</style>\n",
       "<table border=\"1\" class=\"dataframe\">\n",
       "  <thead>\n",
       "    <tr style=\"text-align: right;\">\n",
       "      <th></th>\n",
       "      <th>clase</th>\n",
       "      <th>circuito</th>\n",
       "      <th>corrida</th>\n",
       "      <th>n_qubits</th>\n",
       "      <th>walltime</th>\n",
       "    </tr>\n",
       "  </thead>\n",
       "  <tbody>\n",
       "    <tr>\n",
       "      <th>0</th>\n",
       "      <td>simuMPI</td>\n",
       "      <td>circuit-48</td>\n",
       "      <td>1</td>\n",
       "      <td>5</td>\n",
       "      <td>106.439708</td>\n",
       "    </tr>\n",
       "    <tr>\n",
       "      <th>1</th>\n",
       "      <td>simuMPI</td>\n",
       "      <td>circuit-48</td>\n",
       "      <td>1</td>\n",
       "      <td>5</td>\n",
       "      <td>106.439708</td>\n",
       "    </tr>\n",
       "    <tr>\n",
       "      <th>2</th>\n",
       "      <td>simuMPI</td>\n",
       "      <td>circuit-48</td>\n",
       "      <td>1</td>\n",
       "      <td>5</td>\n",
       "      <td>106.439708</td>\n",
       "    </tr>\n",
       "    <tr>\n",
       "      <th>3</th>\n",
       "      <td>simuMPI</td>\n",
       "      <td>circuit-48</td>\n",
       "      <td>1</td>\n",
       "      <td>5</td>\n",
       "      <td>106.439708</td>\n",
       "    </tr>\n",
       "    <tr>\n",
       "      <th>4</th>\n",
       "      <td>simuMPI</td>\n",
       "      <td>circuit-48</td>\n",
       "      <td>1</td>\n",
       "      <td>5</td>\n",
       "      <td>106.439708</td>\n",
       "    </tr>\n",
       "  </tbody>\n",
       "</table>\n",
       "</div>"
      ]
     },
     "execution_count": 14,
     "metadata": {},
     "output_type": "execute_result"
    }
   ],
   "execution_count": 14
  },
  {
   "metadata": {},
   "cell_type": "markdown",
   "source": [
    "## estado |+....+> con MPI (send/recv y bcast)\n",
    "\n",
    "para la simulacion del estado ejecutar `simuMPI.py` con tantas procesos como 2**qubits, por ejemplo:\n",
    "\n",
    "```bash\n",
    "conda activate env_mpi #donde env_mpi es el entorno\n",
    "mpiexec -n 32 python -m mpi4py simuMPI.py # para 5qb\n",
    "```\n",
    "```bash\n",
    "conda activate env_mpi #donde env_mpi es el entorno\n",
    "mpiexec -n 1024 python -m mpi4py simuMPI.py # para 10qb\n",
    "```\n",
    "la documentación habla de un modificador `--oversubscribe` que no parece necesario.\n",
    "la salida será algo como lo siguiente, repetido $2^{qb}$ veces, es decir una por cada fila de la matriz del circuito:\n",
    "\n",
    "```bash\n",
    "WARN: cupy no está instalado, las simulaciones van a correr en CPU\n",
    "INFO: **numpy** funciona bien, v1.26.4\n",
    "INFO: Simulador creado: circuit-46\n",
    "INFO: Qbits  5\n",
    "```\n",
    "eso se debió a que el estado de salida $U\\ket{\\phi}$ se logra con la multiplicacion de `simuMPI.qc_mztrix` con el vector de estado `simuMPI.instate_matrix`.\n",
    "Para eso reparte el vector entrada, una vez `MPI.bcast` entre los procesos, pero habrá uno de ellos por cada fila de la matriz del circuito (menos uno, ya que el root hace la fila0).\n",
    "\n",
    "```bash\n",
    "DEBUG:  Outstate: [0.1767767+0.j 0.1767767+0.j 0.1767767+0.j 0.1767767+0.j 0.1767767+0.j\n",
    " 0.1767767+0.j 0.1767767+0.j 0.1767767+0.j 0.1767767+0.j 0.1767767+0.j\n",
    "...\n",
    "```\n",
    " la salida esperada para 5qbits es:\n",
    "\n",
    "```bash\n",
    "INFO: Estado de salida - amplitud de probabilidad de los 32   posibles estados::\n",
    "|00000>: 0.177 +i0.000\n",
    "|00001>: 0.177 +i0.000\n",
    "|00010>: 0.177 +i0.000\n",
    "...\n",
    "|11101>: 0.177 +i0.000\n",
    "|11110>: 0.177 +i0.000\n",
    "|11111>: 0.177 +i0.000\n",
    "```"
   ],
   "id": "51c7228a6d8b5b96"
  },
  {
   "metadata": {},
   "cell_type": "markdown",
   "source": [
    "---\n",
    "# sección 4 - conclusiones\n",
    "\n",
    "\n",
    "\n",
    "\n",
    "\n",
    "#### sobre la Sección 0: Inicialización del entorno y variables globales\n",
    "\n",
    "Se valida que el stack está instalado y funcionando, distinguiendo entre entorno con CUDA(cupy/GPU) y sin CUDA (solo para MPI).\n",
    "En el primer caso se lee:\"INFO: **cupy** funciona bien, v13.6.0\" y en el segundo \"INFO: **numpy** funciona bien, v\".\n",
    "\n",
    "Para el desarrollar con el stack con CuPY, se usó una GTX 960M (compute capability 5.0) local, y sirvió bien como PoC. El benchmark de multiplicación de matrices 10000x10000 en ~1.5 segundos parece razonable.\n",
    "\n",
    "##### `cc33simu`\n",
    "\n",
    "el diseño sirvió: Separar la interfaz de la implementación nos permite comparar diferentes estrategias de HPC (GPU alto nivel, GPU bajo nivel, MPI distribuido) usando la misma API.\n",
    "\n",
    "\n",
    "\n",
    "#### sobre la Sección 1: Estado |+....+> con qiskit-aer\n",
    "\n",
    "Acá usamos el `StatevectorSampler` de Qiskit para simular el estado de máxima superposición. Es  la referencia contra la cual vamos a comparar nuestro simulador. 30 corridas nos dan un sampling decente del espacio de estados - todos los bitstrings salen con probabilidad uniforme, se espera a la salida de la compuerta Hadamard H|0> da |+>. El `StatevectorSampler` es la forma \"oficial\" de hacer esto en Qiskit.\n",
    "\n",
    "#### sobre la Sección 2: Simulación con CuPy/GPU\n",
    "\n",
    " DEmostramos que se puede  simular usando CuPy. El resultado muestra todas las amplitudes en √(1/32) ≈ 0.177, que es lo esperado para el estado |+...+⟩. Matemáticamente correcto, y acelerando con GPU.\n",
    " Se implementó un kernel de bajo nivel para CuPy, reemplazando `cupy.matmul()`.\n",
    "\n",
    "\n",
    "#### sobre la Sección 3: Vector de Estados distribuido con MPI\n",
    "\n",
    "Se implementó descomposición de dominio del statevector usando MPI para superar limitaciones de memoria de un solo nodo.\n",
    "\n",
    "\n",
    "El script de prueba `simuMPI_test.py` valida comunicación MPI entre procesos, considerando el tipo de datos MPI_Datatype que mapee bien a un tipo de dato de CuPy/NumPy.\n",
    "El script principal de esta sección: `simuMPI_test.py` valida la proclama de CuPY, como \"drop-in replacement\" de Numpy.\n",
    "\n",
    "Se logró simular estado |+....+>, ahora el método `oòutstate_calculate()` no está implementado, se corre directamente en  `simuMPI.py`.  Para la simulacion del estado ejecutar `simuMPI.py` con tantas procesos como 2**qubits, por ejemplo:\n",
    "\n",
    "```bash\n",
    "#shell, no jupyter notebook\n",
    "conda activate env_mpi #donde env_mpi es el entorno\n",
    "mpiexec -n 32 python -m mpi4py simuMPI.py # para 5qb\n",
    "```\n",
    "La salida tiene la forma: `|00000>: 0.17678` que es la probabilidad de obtener cada estado durante la medición final. Se probó con hasta 5 qbits, pero por encima da el error \"Too many open files\":\n",
    "\n",
    "```bash\n",
    "HYDU_create_process (lib/utils/launch.c:24): pipe error (Too many open files)\n",
    "```\n",
    "\n",
    "#### Infraestructura\n",
    "\n",
    "- **Google Colab**: Intentamos usar Colab pero no funcionó. Probablemente por restricciones en el runtime o versiones incompatibles de CUDA/CuPy.\n",
    "\n",
    "- **Notebook local con GPU**: Terminamos instalando CUDA y CuPy en una máquina local con una GPU geforce GTX 960M\n",
    "\n",
    "A veces la infraestructura \"gratis\" de la nube no es tan flexible como tu propio HW donde hay control total del stack.\n",
    "\n",
    "##### Trabajo Futuro\n",
    "\n",
    "- [ ] benmarks entre las distintas implementaciones. No se espera q sea absoluto, ya que simuGPU corre en un entorno con CUDA y HW de NVDIA, y simuMPI en el entorno de desarrollo del resto de la biblioteca `simuCP33`.\n",
    "- [ ] Estudiar la posiblidad de incorporar benchmarks \"absolutos\" a la API.\n"
   ],
   "id": "c61ad75a68098c75"
  },
  {
   "metadata": {
    "ExecuteTime": {
     "end_time": "2025-10-04T18:45:07.955810Z",
     "start_time": "2025-10-04T18:45:07.953527Z"
    }
   },
   "cell_type": "code",
   "source": "",
   "id": "22419493339984c3",
   "outputs": [],
   "execution_count": null
  },
  {
   "metadata": {
    "ExecuteTime": {
     "end_time": "2025-10-04T18:45:08.008070Z",
     "start_time": "2025-10-04T18:45:08.003871Z"
    }
   },
   "cell_type": "code",
   "source": "",
   "id": "db1531587386d1ae",
   "outputs": [],
   "execution_count": null
  }
 ],
 "metadata": {
  "kernelspec": {
   "display_name": "Python 3",
   "language": "python",
   "name": "python3"
  },
  "language_info": {
   "codemirror_mode": {
    "name": "ipython",
    "version": 2
   },
   "file_extension": ".py",
   "mimetype": "text/x-python",
   "name": "python",
   "nbconvert_exporter": "python",
   "pygments_lexer": "ipython2",
   "version": "2.7.6"
  }
 },
 "nbformat": 4,
 "nbformat_minor": 5
}

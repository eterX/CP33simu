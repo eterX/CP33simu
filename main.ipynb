{
 "cells": [
  {
   "metadata": {},
   "cell_type": "markdown",
   "source": [
    "---\n",
    "\n",
    " __curso [Introducción a la programación HPC con Python y sus aplicaciones al campo de proceso de imágenes]([https://ig.conae.unc.edu.ar/introduccion-a-la-programacion-hpc-2025/])__\n",
    "\n",
    "Simulador de Circuitos Cuánticos, acelerado por MPI y/o GPU. ver [README.md](https://github.com/eterX/CP33simu/blob/main/README.md)\n",
    "\n",
    "---\n",
    "# Sección 0\n",
    "\n",
    "\n",
    "Inicialización de la biblioteca `cp33simu`, el entorno y variables globales.\n",
    "\n",
    "Validamos que el stack está instalado y funcionando. Como se probó en gColab (cuenta gratuita) con entorno T4, CuPY falló en instalar. Como alternativa se instaló el stack en una portátil con GPU NVDIA GTX 960M (compute capability 5.0). Se muestran resultados abajo."
   ],
   "id": "dc285300cc76d6c4"
  },
  {
   "metadata": {
    "ExecuteTime": {
     "end_time": "2025-10-04T18:45:04.337416Z",
     "start_time": "2025-10-04T18:44:58.262730Z"
    }
   },
   "cell_type": "code",
   "source": [
    "#Inicialización del entorno y variables globales\n",
    "\n",
    "%load_ext autoreload\n",
    "%autoreload 2\n",
    "import qiskit as qk\n",
    "import sympy as sp\n",
    "import cp33simu\n",
    "\n",
    "\n",
    "# globales (perdón Niklaus) TODO: mandar a archivo de config\n",
    "num_qubits = 5  #número de qubits a simular\n",
    "corridas = 30 #corridas del Aer de benchmark\n",
    "\n",
    "\n",
    "## verificamos CUDA y cupy\n",
    "_=list()\n",
    "_.append(qk.QuantumCircuit(1,0))\n",
    "_[-1].h(0)\n",
    "_.append(cp33simu.simuGPU(qc=_[-1]))\n",
    "try:\n",
    "    if not _[-1].cupy_installed():\n",
    "        # hay problemas con Cupy\n",
    "        raise ImportError(\"Cupy no está instalado\")\n",
    "    if not _[-1].validate_cupy():\n",
    "        raise ImportError(\"Cupy no está funcionando bien\")\n",
    "except ImportError as e:\n",
    "        print(f\"WARN: {e}\")\n",
    "except Exception:\n",
    "        raise\n",
    "finally:\n",
    "    print(f\"INFO: **{cp33simu.cupy.__name__}** funciona bien, v{cp33simu.cupy.__version__}\")\n",
    "    for tmp in _:\n",
    "        del(tmp) # borro temporales"
   ],
   "id": "16a7fae9a46720df",
   "outputs": [
    {
     "name": "stdout",
     "output_type": "stream",
     "text": [
      "The autoreload extension is already loaded. To reload it, use:\n",
      "  %reload_ext autoreload\n",
      "DEBUG: Versión de CuPy: 13.6.0, GPU: b'NVIDIA GeForce GTX 960M'\n",
      "INFO: Hola Mundo - Array: [1 2 3 4 5]\n",
      "DEBUG: Ejecutando benchmark (multiplicación de matrices 10000x10000)...\n",
      "INFO: Benchmark completado en 1490.69 ms\n",
      "DEBUG: GPU.compute_capability: 50\n",
      "INFO: Simulador creado: circuit-51\n",
      "INFO: Qbits  1\n",
      "DEBUG: Versión de CuPy: 13.6.0, GPU: b'NVIDIA GeForce GTX 960M'\n",
      "INFO: Hola Mundo - Array: [1 2 3 4 5]\n",
      "DEBUG: Ejecutando benchmark (multiplicación de matrices 10000x10000)...\n",
      "INFO: Benchmark completado en 1482.92 ms\n",
      "DEBUG: GPU.compute_capability: 50\n",
      "INFO: **cupy** funciona bien, v13.6.0\n"
     ]
    }
   ],
   "execution_count": 10
  },
  {
   "metadata": {},
   "cell_type": "markdown",
   "source": [
    "### Arquitectura del módulo `cp33simu`\n",
    "\n",
    "El módulo tiene un patrón de herencia, la clase base abstracta `simuAbstracto` es la interfaz común para todos los simuladores:\n",
    "- `qc_matrix_load()`: Carga la matriz del circuito cuántico\n",
    "- `instate_matrix_load()`: Prepara el estado inicial\n",
    "- `outstate_calculate()`: Calcula la evolución\n",
    "\n",
    "luego:\n",
    "\n",
    "\n",
    " 1. `simuGPU`: Simulador GPU de usando [CuPy](https://docs.cupy.dev/en/stable/overview.html), a alto nivel: \"a NumPy/SciPy-compatible array library for GPU-accelerated computing with Python\". Implementa:\n",
    "- Validación de CuPy con benchmarks\n",
    "- Conversión de circuito Qiskit a matriz en GPU (complex128)\n",
    "- Construcción de estado inicial mediante productos de tensriales\n",
    "- Evolución por multiplicación matricial acelerada en GPU\n",
    "\n",
    " 2. `simuGPUbajo`: mismo que simuGPU pero con implementación de kernels CUDA de bajo nivel con CuPY. No implementado\n",
    "\n",
    " 3. `simuMPI`: Misma simulación pero distribuida con descomposición de dominio. El vector de estado se particiona entre procesos MPI. No implementado\n",
    "\n"
   ],
   "id": "989358f1b332009b"
  },
  {
   "metadata": {
    "collapsed": true
   },
   "cell_type": "markdown",
   "source": "# sección 1 - Qiskit-Aer",
   "id": "2dd999c47c8813bf"
  },
  {
   "metadata": {},
   "cell_type": "markdown",
   "source": [
    "## estado |+....+> con qiskit-aer\n",
    "\n",
    "Preparamos el estado  |+....+> y  simulamos con el StateVector sampler de `qiskit-aer`. Usaremos éste resultado para comparar con la biblioteca `cp33simu`"
   ],
   "id": "1394528a9ec871a1"
  },
  {
   "metadata": {
    "ExecuteTime": {
     "end_time": "2025-10-04T18:45:04.514453Z",
     "start_time": "2025-10-04T18:45:04.349367Z"
    }
   },
   "cell_type": "code",
   "source": [
    "\n",
    "\n",
    "qc1=qk.QuantumCircuit(num_qubits,0)\n",
    "qc1.h(range(num_qubits))\n",
    "qc1_copy=qc1.copy()\n",
    "qc1_copy.measure_all()\n",
    "display(qc1_copy.draw(output='mpl'))"
   ],
   "id": "1a287467f6eb2bcb",
   "outputs": [
    {
     "data": {
      "text/plain": [
       "<Figure size 747.609x535.111 with 1 Axes>"
      ],
      "image/png": "[encoded data removed]"
     },
     "metadata": {},
     "output_type": "display_data",
     "jetTransient": {
      "display_id": null
     }
    }
   ],
   "execution_count": 11
  },
  {
   "metadata": {
    "ExecuteTime": {
     "end_time": "2025-10-04T18:45:04.551624Z",
     "start_time": "2025-10-04T18:45:04.524646Z"
    }
   },
   "cell_type": "code",
   "source": [
    "# simulamos\n",
    "\n",
    "from qiskit.primitives import StatevectorSampler\n",
    "sampler = StatevectorSampler()\n",
    "job = sampler.run([qc1_copy], shots = corridas)\n",
    "result = job.result()\n",
    "result_data = result[0].data\n",
    "data_as_bitstrings = result_data.meas.get_bitstrings()\n",
    "cuantosMuestro=min(corridas,10) # no mas de diez, por si se queda muy largo\n",
    "data_as_bitstrings[-cuantosMuestro:]"
   ],
   "id": "ddc01763e774fb84",
   "outputs": [
    {
     "data": {
      "text/plain": [
       "['10101',\n",
       " '10000',\n",
       " '01001',\n",
       " '01001',\n",
       " '00010',\n",
       " '10010',\n",
       " '10000',\n",
       " '10110',\n",
       " '01110',\n",
       " '11010']"
      ]
     },
     "execution_count": 12,
     "metadata": {},
     "output_type": "execute_result"
    }
   ],
   "execution_count": 12
  },
  {
   "metadata": {
    "ExecuteTime": {
     "end_time": "2025-10-04T18:45:04.607779Z",
     "start_time": "2025-10-04T18:45:04.576084Z"
    }
   },
   "cell_type": "code",
   "source": "result_data.meas",
   "id": "45734e6d252b36b4",
   "outputs": [
    {
     "data": {
      "text/plain": [
       "BitArray(<shape=(), num_shots=30, num_bits=5>)"
      ]
     },
     "execution_count": 13,
     "metadata": {},
     "output_type": "execute_result"
    }
   ],
   "execution_count": 13
  },
  {
   "metadata": {},
   "cell_type": "markdown",
   "source": [
    "---\n",
    "# sección 2-  simulación con CuPy/GPU\n",
    "\n",
    "\n",
    "Implementamos nuestro  simulador (prueba de concepto) usando CuPy para acelerar las operaciones matriciales en GPU.\n",
    "1. **Carga del circuito como matriz**: Convertimos el circuito cuántico a su representación matricial usando `qk.quantum_info.Operator.from_circuit()` y lo pasamos a la GPU con `cupy.array()`. Para 5 qubits es una matriz de 32x32 complejos (complex128)\n",
    "\n",
    "2. **Estado inicial**: Construimos $\\ket{0...0}$ usando producto tensorial (`cupy.kron()`).\n",
    "\n",
    "3. **Evolución del estado**: $\\ket{ψ_{out}} = U\\ket{ψ_{in}}$.  trabajo ideal para hacer directamente en la GPU, suponiendo que la memoria global es suficiente. El Offloading a GPU evita transferencias $CPU <-> GPU$.  El problema  circuitos grandes crece exponencialmente (2^n × 2^n complejos). Un circuito de 20 qubits ya requiere ~17GB solo para la matriz U.\n",
    "\n",
    "\n",
    "\n",
    "\n",
    "## estado |+....+> con GPU\n",
    "\n"
   ],
   "id": "54a1c0e4c26cf5e7"
  },
  {
   "metadata": {
    "ExecuteTime": {
     "end_time": "2025-10-04T18:45:04.662070Z",
     "start_time": "2025-10-04T18:45:04.628443Z"
    }
   },
   "cell_type": "code",
   "source": "#TODO: si simu.cupy_enabled en falso, saltea la sección",
   "id": "6f71934fb1c25918",
   "outputs": [],
   "execution_count": 14
  },
  {
   "metadata": {
    "ExecuteTime": {
     "end_time": "2025-10-04T18:45:07.720804Z",
     "start_time": "2025-10-04T18:45:04.679009Z"
    }
   },
   "cell_type": "code",
   "source": [
    "# instanciamos el simulador para GPU en `cp33simu` con el circuito a simular\n",
    "#\n",
    "# este usar CuPY a \"alto nivel\", `cp33simu.simuGPUbajo`\n",
    "\n",
    "simu=cp33simu.simuGPU(qc=qc1)\n",
    "\n",
    "# otras opciones NO IMPLEMENTADAS:\n",
    "#simu=cp33simu.simuGPUbajo(qc=qc1)\n",
    "#simu=cp33simu.simuMPI(qc=qc1)"
   ],
   "id": "782f6d299603000b",
   "outputs": [
    {
     "name": "stdout",
     "output_type": "stream",
     "text": [
      "DEBUG: Versión de CuPy: 13.6.0, GPU: b'NVIDIA GeForce GTX 960M'\n",
      "INFO: Hola Mundo - Array: [1 2 3 4 5]\n",
      "DEBUG: Ejecutando benchmark (multiplicación de matrices 10000x10000)...\n",
      "INFO: Benchmark completado en 1489.89 ms\n",
      "DEBUG: GPU.compute_capability: 50\n",
      "INFO: Simulador creado: circuit-52\n",
      "INFO: Qbits  5\n"
     ]
    }
   ],
   "execution_count": 15
  },
  {
   "metadata": {
    "ExecuteTime": {
     "end_time": "2025-10-04T18:45:07.824080Z",
     "start_time": "2025-10-04T18:45:07.792528Z"
    }
   },
   "cell_type": "code",
   "source": [
    "# saca la matriz desde qiskit\n",
    "# para preparar |+...+> la mariz del circuito será (H|0⟩)⊗...⊗(H|0⟩)\n",
    "#\n",
    "simu.qc_matrix=None\n",
    "resultOK=simu.qc_matrix_load() #carga la matriz del circuito en la GPU\n",
    "#resultOK=False\n",
    "if resultOK:\n",
    "    pass #TODO: mostramos matriz?\n",
    "else:\n",
    "    msg=\"no se pudo cargar la matriz del circuito\"\n",
    "    print(f\"ERROR: {msg}\")\n",
    "    raise ValueError(msg)\n",
    "\n",
    "# preparamos el estado inicial\n",
    "simu.instate_matrix=None\n",
    "resultOK=simu.instate_matrix_load()\n",
    "if not resultOK:\n",
    "    msg=\"ERROR: no se pudo cargar el estado de entrada\"\n",
    "    raise ValueError(msg)\n",
    "\n",
    "\n",
    "#todo listo, simulamos!\n",
    "resultOK=simu.outstate_calculate()"
   ],
   "id": "f9968192a941167a",
   "outputs": [
    {
     "name": "stdout",
     "output_type": "stream",
     "text": [
      "INFO: Estado inicial cargado: [[ 0.1767767+0.j  0.1767767+0.j  0.1767767+0.j ...  0.1767767+0.j\n",
      "   0.1767767+0.j  0.1767767+0.j]\n",
      " [ 0.1767767+0.j -0.1767767+0.j  0.1767767+0.j ... -0.1767767+0.j\n",
      "   0.1767767+0.j -0.1767767+0.j]\n",
      " [ 0.1767767+0.j  0.1767767+0.j -0.1767767+0.j ...  0.1767767+0.j\n",
      "  -0.1767767+0.j -0.1767767+0.j]\n",
      " ...\n",
      " [ 0.1767767+0.j -0.1767767+0.j  0.1767767+0.j ...  0.1767767+0.j\n",
      "  -0.1767767+0.j  0.1767767+0.j]\n",
      " [ 0.1767767+0.j  0.1767767+0.j -0.1767767+0.j ... -0.1767767+0.j\n",
      "   0.1767767+0.j  0.1767767+0.j]\n",
      " [ 0.1767767+0.j -0.1767767+0.j -0.1767767+0.j ...  0.1767767+0.j\n",
      "   0.1767767+0.j -0.1767767+0.j]]\n",
      "INFO: Estado inicial cargado\n",
      "DEBUG: Estado inicial: [[1.+0.j]\n",
      " [0.+0.j]\n",
      " [0.+0.j]\n",
      " [0.+0.j]\n",
      " [0.+0.j]\n",
      " [0.+0.j]\n",
      " [0.+0.j]\n",
      " [0.+0.j]\n",
      " [0.+0.j]\n",
      " [0.+0.j]\n",
      " [0.+0.j]\n",
      " [0.+0.j]\n",
      " [0.+0.j]\n",
      " [0.+0.j]\n",
      " [0.+0.j]\n",
      " [0.+0.j]\n",
      " [0.+0.j]\n",
      " [0.+0.j]\n",
      " [0.+0.j]\n",
      " [0.+0.j]\n",
      " [0.+0.j]\n",
      " [0.+0.j]\n",
      " [0.+0.j]\n",
      " [0.+0.j]\n",
      " [0.+0.j]\n",
      " [0.+0.j]\n",
      " [0.+0.j]\n",
      " [0.+0.j]\n",
      " [0.+0.j]\n",
      " [0.+0.j]\n",
      " [0.+0.j]\n",
      " [0.+0.j]]\n",
      "INFO: estado de salida OK\n",
      "DEBUG: estado de salida: [[0.1767767+0.j]\n",
      " [0.1767767+0.j]\n",
      " [0.1767767+0.j]\n",
      " [0.1767767+0.j]\n",
      " [0.1767767+0.j]\n",
      " [0.1767767+0.j]\n",
      " [0.1767767+0.j]\n",
      " [0.1767767+0.j]\n",
      " [0.1767767+0.j]\n",
      " [0.1767767+0.j]\n",
      " [0.1767767+0.j]\n",
      " [0.1767767+0.j]\n",
      " [0.1767767+0.j]\n",
      " [0.1767767+0.j]\n",
      " [0.1767767+0.j]\n",
      " [0.1767767+0.j]\n",
      " [0.1767767+0.j]\n",
      " [0.1767767+0.j]\n",
      " [0.1767767+0.j]\n",
      " [0.1767767+0.j]\n",
      " [0.1767767+0.j]\n",
      " [0.1767767+0.j]\n",
      " [0.1767767+0.j]\n",
      " [0.1767767+0.j]\n",
      " [0.1767767+0.j]\n",
      " [0.1767767+0.j]\n",
      " [0.1767767+0.j]\n",
      " [0.1767767+0.j]\n",
      " [0.1767767+0.j]\n",
      " [0.1767767+0.j]\n",
      " [0.1767767+0.j]\n",
      " [0.1767767+0.j]]\n"
     ]
    }
   ],
   "execution_count": 16
  },
  {
   "metadata": {
    "ExecuteTime": {
     "end_time": "2025-10-04T18:45:07.946370Z",
     "start_time": "2025-10-04T18:45:07.899524Z"
    }
   },
   "cell_type": "code",
   "source": [
    "\n",
    "if not resultOK:\n",
    "    print(\"ERROR: no se pudo calcular el estado de salida\")\n",
    "else:\n",
    "    print(f\"INFO: estado de salida OK, primeras filas: \\n {simu.outstate_matrix[-cuantosMuestro:]}\")"
   ],
   "id": "55abd2dc398611a6",
   "outputs": [
    {
     "name": "stdout",
     "output_type": "stream",
     "text": [
      "INFO: estado de salida OK, primeras filas: \n",
      " [[0.1767767+0.j]\n",
      " [0.1767767+0.j]\n",
      " [0.1767767+0.j]\n",
      " [0.1767767+0.j]\n",
      " [0.1767767+0.j]\n",
      " [0.1767767+0.j]\n",
      " [0.1767767+0.j]\n",
      " [0.1767767+0.j]\n",
      " [0.1767767+0.j]\n",
      " [0.1767767+0.j]]\n"
     ]
    }
   ],
   "execution_count": 17
  },
  {
   "metadata": {},
   "cell_type": "markdown",
   "source": [
    "---\n",
    "# sección 3 - Vector de Estados distribuído con MPI\n",
    "\n",
    "\n",
    "Esta sección está pendiente de implementación. La idea es usar `mpi4py` para distribuir el vector de estado entre múltiples procesos (potencialmente en diferentes nodos de un cluster).  Cada proceso MPI maneja una porción del vector. Las compuertas multi-qbit requieren comunicación entre procesos cuando hay entrelazamiento , se espera ver ventajas con MPI versus GPU aisladas.\n",
    "\n",
    "TODO: implementar simu33.simuMPI"
   ],
   "id": "ebb7fb17320ced24"
  },
  {
   "metadata": {},
   "cell_type": "markdown",
   "source": [
    "---\n",
    "# sección 4 - conclusiones\n",
    "\n",
    "\n",
    "\n",
    "\n",
    "\n",
    "## sobre la Sección 0: Inicialización del entorno y variables globales\n",
    "\n",
    "Se valida que el stack está instalado y funcionando, distinguiendo entre entorno con CUDA(cupy/GPU) y sin CUDA (solo para MPI).\n",
    "En el primer caso se lee:\"INFO: **cupy** funciona bien, v13.6.0\" y en el segundo \"INFO: **numpy** funciona bien, v\".\n",
    "\n",
    "Para el desarrollar con el stack con CuPY, se usó una GTX 960M (compute capability 5.0) local, y sirvió bien como PoC. El benchmark de multiplicación de matrices 10000x10000 en ~1.5 segundos parece razonable.\n",
    "\n",
    "### `cc33simu`\n",
    "\n",
    "el diseño sirvió: Separar la interfaz de la implementación nos permite comparar diferentes estrategias de HPC (GPU alto nivel, GPU bajo nivel, MPI distribuido) usando la misma API.\n",
    "\n",
    "\n",
    "\n",
    "## sobre la Sección 1: Estado |+....+> con qiskit-aer\n",
    "\n",
    "Acá usamos el `StatevectorSampler` de Qiskit para simular el estado de máxima superposición. Es  la referencia contra la cual vamos a comparar nuestro simulador. 30 corridas nos dan un sampling decente del espacio de estados - todos los bitstrings salen con probabilidad uniforme, se espera a la salida de la compuerta Hadamard H|0> da |+>. El `StatevectorSampler` es la forma \"oficial\" de hacer esto en Qiskit.\n",
    "\n",
    "## sobre la Sección 2: Simulación con CuPy/GPU\n",
    "\n",
    " DEmostramos que se puede  simular usando CuPy. El resultado muestra todas las amplitudes en √(1/32) ≈ 0.177, que es lo esperado para el estado |+...+⟩. Matemáticamente correcto, y acelerando con GPU.\n",
    "\n",
    "\n",
    "## Sección 3: Vector de Estados distribuido con MPI\n",
    "\n",
    "WIP\n",
    "\n",
    "\n",
    "## Infraestructura\n",
    "\n",
    "- **Google Colab**: Intentamos usar Colab pero no funcionó. Probablemente por restricciones en el runtime o versiones incompatibles de CUDA/CuPy.\n",
    "\n",
    "- **Notebook local con GPU**: Terminamos instalando CUDA y CuPy en una máquina local con una GPU geforce GTX 960M\n",
    "\n",
    "A veces la infraestructura \"gratis\" de la nube no es tan flexible como tu propio HW donde hay control total del stack.\n",
    "\n",
    "### Trabajo Futuro\n",
    "\n",
    "#### 1. Implementación de `simuGPUbajo` con kernels CUDA (~24 horas)\n",
    "\n",
    " Implementar operaciones cuánticas usando kernels CUDA custom en vez de operaciones de alto nivel de CuPy. Beneficio esperado, Los kernels custom pueden aprovechar mejor la memoria compartida de la GPU y optimizar patrones de acceso a memoria.\n",
    "\n",
    "#### 2. Simulación distribuida con MPI - `simuMPI` (~32 horas)\n",
    "\n",
    "Implementar descomposición de dominio del statevector usando MPI para superar limitaciones de memoria de un solo nodo.\n"
   ],
   "id": "c61ad75a68098c75"
  },
  {
   "metadata": {
    "ExecuteTime": {
     "end_time": "2025-10-04T18:45:07.955810Z",
     "start_time": "2025-10-04T18:45:07.953527Z"
    }
   },
   "cell_type": "code",
   "source": "",
   "id": "22419493339984c3",
   "outputs": [],
   "execution_count": null
  },
  {
   "metadata": {
    "ExecuteTime": {
     "end_time": "2025-10-04T18:45:08.008070Z",
     "start_time": "2025-10-04T18:45:08.003871Z"
    }
   },
   "cell_type": "code",
   "source": "",
   "id": "db1531587386d1ae",
   "outputs": [],
   "execution_count": null
  }
 ],
 "metadata": {
  "kernelspec": {
   "display_name": "Python 3",
   "language": "python",
   "name": "python3"
  },
  "language_info": {
   "codemirror_mode": {
    "name": "ipython",
    "version": 2
   },
   "file_extension": ".py",
   "mimetype": "text/x-python",
   "name": "python",
   "nbconvert_exporter": "python",
   "pygments_lexer": "ipython2",
   "version": "2.7.6"
  }
 },
 "nbformat": 4,
 "nbformat_minor": 5
}
